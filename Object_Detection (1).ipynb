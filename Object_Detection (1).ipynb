{
 "cells": [
  {
   "cell_type": "markdown",
   "id": "5a33b8b7",
   "metadata": {},
   "source": [
    "# What are Convolutional Neural Networks?"
   ]
  },
  {
   "cell_type": "markdown",
   "id": "02e290a5",
   "metadata": {},
   "source": [
    "\n",
    "Convolutional Neural Networks (ConvNets or CNNs) are a category of Neural Networks that have proven very effective in areas such as image recognition and classification. ConvNets have been successful in identifying faces, objects and traffic signs apart from powering vision in robots and self driving cars.\n",
    "\n",
    "A Convolutional Neural Network (CNN) is comprised of one or more convolutional layers (often with a subsampling step) and then followed by one or more fully connected layers as in a standard multilayer neural network. The architecture of a CNN is designed to take advantage of the 2D structure of an input image (or other 2D input such as a speech signal). This is achieved with local connections and tied weights followed by some form of pooling which results in translation invariant features. Another benefit of CNNs is that they are easier to train and have many fewer parameters than fully connected networks with the same number of hidden units. In this article we will discuss the architecture of a CNN and the back propagation algorithm to compute the gradient with respect to the parameters of the model in order to use gradient based optimization."
   ]
  },
  {
   "cell_type": "markdown",
   "id": "61fd3b44",
   "metadata": {},
   "source": [
    "# Project : Object_Detection"
   ]
  },
  {
   "cell_type": "code",
   "execution_count": 1,
   "id": "017a130f",
   "metadata": {},
   "outputs": [],
   "source": [
    "import numpy as np\n",
    "from tensorflow import keras\n",
    "from tensorflow.keras import layers"
   ]
  },
  {
   "cell_type": "code",
   "execution_count": 4,
   "id": "2b185ca7",
   "metadata": {},
   "outputs": [],
   "source": [
    "# execute this only once... if you run again, skip this part\n",
    "import zipfile\n",
    "with zipfile.ZipFile(\"trainn.zip\", 'r') as zip_ref:        # get the path for train.zip using copypath. paste the link within the quotation\n",
    "     # creates new folder 'cats_dogs_images' and saves all images present in train.zip\n",
    "    zip_ref.extractall(\"cat_dogs\")  # create a new folder, rename it and get the path of it using copypath.. paste the link here\n",
    "    "
   ]
  },
  {
   "cell_type": "code",
   "execution_count": 5,
   "id": "c48c8790",
   "metadata": {},
   "outputs": [],
   "source": [
    "# execute this only once.. if you run again, skip this part\n",
    "\n",
    "import os, shutil, pathlib\n",
    "\n",
    "original_dir = pathlib.Path(\"cat_dogs/trainn\") # get the path of train folder in cats_dogs_images using copypath and paste the link here\n",
    "new_base_dir = pathlib.Path(\"cat_dogs/image_segregated\") # create a new folder, rename it and get the path using copypath and paste the link here.\n",
    "\n",
    "\n",
    "# define a function to create subsets for train, test and validation\n",
    "def make_subset(subset_name, start_index, end_index): \n",
    "    for category in (\"cat\", \"dog\"):\n",
    "        dir = new_base_dir / subset_name / category\n",
    "        os.makedirs(dir)   \n",
    "        fnames = [f\"{category}.{i}.jpg\" for i in range(start_index, end_index)]\n",
    "        for fname in fnames:\n",
    "            shutil.copyfile(src=original_dir / fname,\n",
    "                            dst=dir / fname)\n",
    "\n",
    "# calling the function thrice to create 3 subsets. \n",
    "make_subset(\"train\", start_index=0, end_index=300)\n",
    "make_subset(\"validation\", start_index=300, end_index=400)\n",
    "make_subset(\"test\", start_index=400, end_index=500)"
   ]
  },
  {
   "cell_type": "code",
   "execution_count": 6,
   "id": "8dfa67f3",
   "metadata": {},
   "outputs": [],
   "source": [
    "# here we use Functional API to create a model\n",
    "from tensorflow import keras\n",
    "from tensorflow.keras import layers\n",
    "\n",
    "inputs = keras.Input(shape=(180, 180, 3))\n",
    "x = layers.Rescaling(1./255)(inputs)\n",
    "x = layers.Conv2D(filters=32, kernel_size=3, activation=\"relu\")(x)\n",
    "x = layers.MaxPooling2D(pool_size=2)(x)\n",
    "x = layers.Conv2D(filters=64, kernel_size=3, activation=\"relu\")(x)\n",
    "x = layers.MaxPooling2D(pool_size=2)(x)\n",
    "x = layers.Conv2D(filters=128, kernel_size=3, activation=\"relu\")(x)\n",
    "x = layers.MaxPooling2D(pool_size=2)(x)\n",
    "x = layers.Conv2D(filters=256, kernel_size=3, activation=\"relu\")(x)\n",
    "x = layers.MaxPooling2D(pool_size=2)(x)\n",
    "x = layers.Conv2D(filters=256, kernel_size=3, activation=\"relu\")(x)\n",
    "x = layers.Flatten()(x)\n",
    "outputs = layers.Dense(1, activation=\"sigmoid\")(x)\n",
    "model = keras.Model(inputs=inputs, outputs=outputs)"
   ]
  },
  {
   "cell_type": "code",
   "execution_count": 7,
   "id": "fae17861",
   "metadata": {},
   "outputs": [
    {
     "name": "stdout",
     "output_type": "stream",
     "text": [
      "Model: \"model\"\n",
      "_________________________________________________________________\n",
      " Layer (type)                Output Shape              Param #   \n",
      "=================================================================\n",
      " input_1 (InputLayer)        [(None, 180, 180, 3)]     0         \n",
      "                                                                 \n",
      " rescaling (Rescaling)       (None, 180, 180, 3)       0         \n",
      "                                                                 \n",
      " conv2d (Conv2D)             (None, 178, 178, 32)      896       \n",
      "                                                                 \n",
      " max_pooling2d (MaxPooling2D  (None, 89, 89, 32)       0         \n",
      " )                                                               \n",
      "                                                                 \n",
      " conv2d_1 (Conv2D)           (None, 87, 87, 64)        18496     \n",
      "                                                                 \n",
      " max_pooling2d_1 (MaxPooling  (None, 43, 43, 64)       0         \n",
      " 2D)                                                             \n",
      "                                                                 \n",
      " conv2d_2 (Conv2D)           (None, 41, 41, 128)       73856     \n",
      "                                                                 \n",
      " max_pooling2d_2 (MaxPooling  (None, 20, 20, 128)      0         \n",
      " 2D)                                                             \n",
      "                                                                 \n",
      " conv2d_3 (Conv2D)           (None, 18, 18, 256)       295168    \n",
      "                                                                 \n",
      " max_pooling2d_3 (MaxPooling  (None, 9, 9, 256)        0         \n",
      " 2D)                                                             \n",
      "                                                                 \n",
      " conv2d_4 (Conv2D)           (None, 7, 7, 256)         590080    \n",
      "                                                                 \n",
      " flatten (Flatten)           (None, 12544)             0         \n",
      "                                                                 \n",
      " dense (Dense)               (None, 1)                 12545     \n",
      "                                                                 \n",
      "=================================================================\n",
      "Total params: 991,041\n",
      "Trainable params: 991,041\n",
      "Non-trainable params: 0\n",
      "_________________________________________________________________\n"
     ]
    }
   ],
   "source": [
    "model.summary()"
   ]
  },
  {
   "cell_type": "code",
   "execution_count": 8,
   "id": "49ed2bb5",
   "metadata": {},
   "outputs": [],
   "source": [
    "model.compile(loss=\"binary_crossentropy\",\n",
    "              optimizer=\"rmsprop\",\n",
    "              metrics=[\"accuracy\"])"
   ]
  },
  {
   "cell_type": "code",
   "execution_count": 9,
   "id": "8c470b01",
   "metadata": {},
   "outputs": [
    {
     "name": "stdout",
     "output_type": "stream",
     "text": [
      "Found 600 files belonging to 2 classes.\n",
      "Found 200 files belonging to 2 classes.\n",
      "Found 200 files belonging to 2 classes.\n"
     ]
    }
   ],
   "source": [
    "from tensorflow.keras.utils import image_dataset_from_directory\n",
    "\n",
    "train_dataset = image_dataset_from_directory(\n",
    "    new_base_dir / \"train\",\n",
    "    image_size=(180, 180),\n",
    "    batch_size=32)\n",
    "validation_dataset = image_dataset_from_directory(\n",
    "    new_base_dir / \"validation\",\n",
    "    image_size=(180, 180),\n",
    "    batch_size=32)\n",
    "test_dataset = image_dataset_from_directory(\n",
    "    new_base_dir / \"test\",\n",
    "    image_size=(180, 180),\n",
    "    batch_size=32)"
   ]
  },
  {
   "cell_type": "code",
   "execution_count": 10,
   "id": "e6bf1d74",
   "metadata": {},
   "outputs": [
    {
     "name": "stdout",
     "output_type": "stream",
     "text": [
      "Epoch 1/10\n",
      "19/19 [==============================] - 29s 1s/step - loss: 0.8059 - accuracy: 0.4950 - val_loss: 0.6912 - val_accuracy: 0.5000\n",
      "Epoch 2/10\n",
      "19/19 [==============================] - 27s 1s/step - loss: 0.6929 - accuracy: 0.5200 - val_loss: 0.6924 - val_accuracy: 0.5000\n",
      "Epoch 3/10\n",
      "19/19 [==============================] - 28s 1s/step - loss: 0.6925 - accuracy: 0.5450 - val_loss: 0.6738 - val_accuracy: 0.5600\n",
      "Epoch 4/10\n",
      "19/19 [==============================] - 29s 2s/step - loss: 0.7004 - accuracy: 0.5250 - val_loss: 0.6901 - val_accuracy: 0.6200\n",
      "Epoch 5/10\n",
      "19/19 [==============================] - 28s 1s/step - loss: 0.7149 - accuracy: 0.5567 - val_loss: 0.6757 - val_accuracy: 0.6300\n",
      "Epoch 6/10\n",
      "19/19 [==============================] - 28s 1s/step - loss: 0.6759 - accuracy: 0.6083 - val_loss: 0.6519 - val_accuracy: 0.6150\n",
      "Epoch 7/10\n",
      "19/19 [==============================] - 29s 2s/step - loss: 0.6234 - accuracy: 0.6533 - val_loss: 0.6875 - val_accuracy: 0.5300\n",
      "Epoch 8/10\n",
      "19/19 [==============================] - 29s 2s/step - loss: 0.6211 - accuracy: 0.6700 - val_loss: 0.6545 - val_accuracy: 0.6150\n",
      "Epoch 9/10\n",
      "19/19 [==============================] - 29s 1s/step - loss: 0.5548 - accuracy: 0.7233 - val_loss: 0.6943 - val_accuracy: 0.6100\n",
      "Epoch 10/10\n",
      "19/19 [==============================] - 28s 1s/step - loss: 0.6011 - accuracy: 0.6867 - val_loss: 0.6933 - val_accuracy: 0.6050\n"
     ]
    }
   ],
   "source": [
    "callbacks = [\n",
    "    keras.callbacks.ModelCheckpoint(\n",
    "        filepath=\"convnet_from_scratch.keras\", # path to save the model file\n",
    "        save_best_only=True,\n",
    "        monitor=\"val_loss\")\n",
    "]\n",
    "history = model.fit(\n",
    "    train_dataset,\n",
    "    epochs=10,\n",
    "    validation_data=validation_dataset,\n",
    "    callbacks=callbacks)"
   ]
  },
  {
   "cell_type": "code",
   "execution_count": 11,
   "id": "f2b173ba",
   "metadata": {},
   "outputs": [
    {
     "data": {
      "image/png": "[encoded data removed]",
      "text/plain": [
       "<Figure size 432x288 with 1 Axes>"
      ]
     },
     "metadata": {
      "needs_background": "light"
     },
     "output_type": "display_data"
    },
    {
     "data": {
      "image/png": "[encoded data removed]",
      "text/plain": [
       "<Figure size 432x288 with 1 Axes>"
      ]
     },
     "metadata": {
      "needs_background": "light"
     },
     "output_type": "display_data"
    }
   ],
   "source": [
    "import matplotlib.pyplot as plt\n",
    "accuracy = history.history[\"accuracy\"]\n",
    "val_accuracy = history.history[\"val_accuracy\"]\n",
    "loss = history.history[\"loss\"]\n",
    "val_loss = history.history[\"val_loss\"]\n",
    "epochs = range(1, len(accuracy) + 1)\n",
    "plt.plot(epochs, accuracy, \"r\", label=\"Training accuracy\")\n",
    "plt.plot(epochs, val_accuracy, \"b\", label=\"Validation accuracy\")\n",
    "plt.title(\"Training and validation accuracy\")\n",
    "plt.xlabel(\"epochs\")\n",
    "plt.ylabel(\"accuracy\")\n",
    "plt.legend()\n",
    "plt.figure()\n",
    "plt.plot(epochs, loss, \"r\", label=\"Training loss\")\n",
    "plt.plot(epochs, val_loss, \"b\", label=\"Validation loss\")\n",
    "plt.title(\"Training and validation loss\")\n",
    "plt.xlabel(\"epochs\")\n",
    "plt.ylabel(\"loss\")\n",
    "plt.legend()\n",
    "plt.show()"
   ]
  },
  {
   "cell_type": "code",
   "execution_count": 12,
   "id": "dc7aef2c",
   "metadata": {},
   "outputs": [
    {
     "name": "stdout",
     "output_type": "stream",
     "text": [
      "7/7 [==============================] - 3s 360ms/step - loss: 0.6529 - accuracy: 0.6550\n",
      "Test accuracy: 0.655\n"
     ]
    }
   ],
   "source": [
    "test_model = keras.models.load_model(\"convnet_from_scratch.keras\")\n",
    "test_loss, test_acc = test_model.evaluate(test_dataset)\n",
    "print(f\"Test accuracy: {test_acc:.3f}\")"
   ]
  },
  {
   "cell_type": "code",
   "execution_count": 13,
   "id": "1c5feac6",
   "metadata": {},
   "outputs": [
    {
     "name": "stdout",
     "output_type": "stream",
     "text": [
      "1/1 [==============================] - 0s 163ms/step\n",
      "This image is 15.80 percent cat and 84.20 percent dog.\n"
     ]
    }
   ],
   "source": [
    "import tensorflow\n",
    "img = keras.preprocessing.image.load_img(\n",
    "    \"cat_dog/image_segregated/test/dog/dog.415.jpg\", target_size=(180,180,3)\n",
    ")\n",
    "img_array = keras.preprocessing.image.img_to_array(img)\n",
    "img_array = tensorflow.expand_dims(img_array, 0)  # Create batch axis\n",
    "\n",
    "predictions = model.predict(img_array)\n",
    "score = predictions[0]\n",
    "print(\n",
    "    \"This image is %.2f percent cat and %.2f percent dog.\"\n",
    "    % (100 * (1 - score), 100 * score)\n",
    ")"
   ]
  },
  {
   "cell_type": "code",
   "execution_count": 14,
   "id": "824c9e19",
   "metadata": {},
   "outputs": [
    {
     "data": {
      "text/plain": [
       "array([0.8419783], dtype=float32)"
      ]
     },
     "execution_count": 14,
     "metadata": {},
     "output_type": "execute_result"
    }
   ],
   "source": [
    "score\n"
   ]
  },
  {
   "cell_type": "code",
   "execution_count": null,
   "id": "309e2f86",
   "metadata": {},
   "outputs": [],
   "source": []
  },
  {
   "cell_type": "code",
   "execution_count": null,
   "id": "7fc849cb",
   "metadata": {},
   "outputs": [],
   "source": []
  },
  {
   "cell_type": "code",
   "execution_count": null,
   "id": "40c68f86",
   "metadata": {},
   "outputs": [],
   "source": []
  },
  {
   "cell_type": "code",
   "execution_count": null,
   "id": "4128fb0c",
   "metadata": {},
   "outputs": [],
   "source": []
  }
 ],
 "metadata": {
  "kernelspec": {
   "display_name": "Python 3 (ipykernel)",
   "language": "python",
   "name": "python3"
  },
  "language_info": {
   "codemirror_mode": {
    "name": "ipython",
    "version": 3
   },
   "file_extension": ".py",
   "mimetype": "text/x-python",
   "name": "python",
   "nbconvert_exporter": "python",
   "pygments_lexer": "ipython3",
   "version": "3.9.7"
  }
 },
 "nbformat": 4,
 "nbformat_minor": 5
}
